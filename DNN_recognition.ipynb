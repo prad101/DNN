{
  "nbformat": 4,
  "nbformat_minor": 0,
  "metadata": {
    "colab": {
      "name": "DNN_recognition.ipynb",
      "provenance": [],
      "toc_visible": true,
      "authorship_tag": "ABX9TyNeM0Wv2Vo3FzsmWTWjDArF",
      "include_colab_link": true
    },
    "kernelspec": {
      "name": "python3",
      "display_name": "Python 3"
    }
  },
  "cells": [
    {
      "cell_type": "markdown",
      "metadata": {
        "id": "view-in-github",
        "colab_type": "text"
      },
      "source": [
        "<a href=\"https://colab.research.google.com/github/prad101/DNN/blob/main/DNN_recognition.ipynb\" target=\"_parent\"><img src=\"https://colab.research.google.com/assets/colab-badge.svg\" alt=\"Open In Colab\"/></a>"
      ]
    },
    {
      "cell_type": "code",
      "metadata": {
        "colab": {
          "base_uri": "https://localhost:8080/"
        },
        "id": "dQpyL2d_GgI3",
        "outputId": "270d8488-dbcc-4a40-dfc8-eb99be01d865"
      },
      "source": [
        "import tensorflow as tf\r\n",
        "import os\r\n",
        "from os import path, getcwd, chdir\r\n",
        "\r\n",
        "current_dir = os.getcwd()\r\n",
        "print(tf.__version__)\r\n",
        "\r\n"
      ],
      "execution_count": null,
      "outputs": [
        {
          "output_type": "stream",
          "text": [
            "2.4.0\n"
          ],
          "name": "stdout"
        }
      ]
    },
    {
      "cell_type": "code",
      "metadata": {
        "id": "oz6NwytFGtrL"
      },
      "source": [
        "def train_mnist():\r\n",
        "    \r\n",
        "   class myCallback(tf.keras.callbacks.Callback):\r\n",
        "         def on_epoch_end(self, epoch, logs={}):\r\n",
        "            if(logs.get('acc')>1.0):\r\n",
        "                      print(\"\\nReaching 100% accuracy\")\r\n",
        "                      self.model.stop_training = True\r\n",
        "    \r\n",
        "   mnist = tf.keras.datasets.mnist\r\n",
        "\r\n",
        "   (x_train, y_train),(x_test, y_test) = mnist.load_data(path=current_dir+'/mnist.npz')\r\n",
        "   x_train, x_test = x_train / 255.0, x_test / 255.0\r\n",
        "   callback = myCallback()\r\n",
        "      \r\n",
        "    \r\n",
        "   model = tf.keras.models.Sequential([     \r\n",
        "        tf.keras.layers.Flatten(input_shape=(28, 28)),\r\n",
        "        tf.keras.layers.Dense(512, activation=tf.nn.relu),\r\n",
        "        tf.keras.layers.Dense(10, activation=tf.nn.softmax)\r\n",
        "       ])\r\n",
        "\r\n",
        "   model.compile(optimizer='adam',\r\n",
        "                  loss='sparse_categorical_crossentropy',\r\n",
        "                  metrics=['acc'])\r\n",
        "    \r\n",
        "    # model fitting\r\n",
        "   history = model.fit(x_train, y_train, epochs=10, callbacks=[callback])\r\n",
        "              \r\n",
        "   return history.epoch, history.history['acc'][-1]"
      ],
      "execution_count": null,
      "outputs": []
    },
    {
      "cell_type": "code",
      "metadata": {
        "colab": {
          "base_uri": "https://localhost:8080/"
        },
        "id": "8l4cItfuHKCF",
        "outputId": "5b51b3f7-81a2-4163-c6b4-518cf5ace56c"
      },
      "source": [
        "train_mnist()"
      ],
      "execution_count": null,
      "outputs": [
        {
          "output_type": "stream",
          "text": [
            "Epoch 1/10\n",
            "1875/1875 [==============================] - 7s 3ms/step - loss: 0.3361 - acc: 0.9018\n",
            "Epoch 2/10\n",
            "1875/1875 [==============================] - 6s 3ms/step - loss: 0.0811 - acc: 0.9763\n",
            "Epoch 3/10\n",
            "1875/1875 [==============================] - 6s 3ms/step - loss: 0.0504 - acc: 0.9841\n",
            "Epoch 4/10\n",
            "1875/1875 [==============================] - 6s 3ms/step - loss: 0.0321 - acc: 0.9903\n",
            "Epoch 5/10\n",
            "1875/1875 [==============================] - 7s 3ms/step - loss: 0.0239 - acc: 0.9929\n",
            "Epoch 6/10\n",
            "1875/1875 [==============================] - 6s 3ms/step - loss: 0.0198 - acc: 0.9933\n",
            "Epoch 7/10\n",
            "1875/1875 [==============================] - 7s 4ms/step - loss: 0.0133 - acc: 0.9956\n",
            "Epoch 8/10\n",
            "1875/1875 [==============================] - 7s 4ms/step - loss: 0.0168 - acc: 0.9939\n",
            "Epoch 9/10\n",
            "1875/1875 [==============================] - 7s 4ms/step - loss: 0.0082 - acc: 0.9972\n",
            "Epoch 10/10\n",
            "1875/1875 [==============================] - 7s 4ms/step - loss: 0.0137 - acc: 0.9956\n"
          ],
          "name": "stdout"
        },
        {
          "output_type": "execute_result",
          "data": {
            "text/plain": [
              "([0, 1, 2, 3, 4, 5, 6, 7, 8, 9], 0.9960500001907349)"
            ]
          },
          "metadata": {
            "tags": []
          },
          "execution_count": 21
        }
      ]
    }
  ]
}